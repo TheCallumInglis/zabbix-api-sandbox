{
 "cells": [
  {
   "cell_type": "code",
   "execution_count": null,
   "metadata": {},
   "outputs": [],
   "source": [
    "import requests\n",
    "import json\n",
    "from secrets import creds\n",
    "\n",
    "DEBUG = False\n",
    "headers = {\n",
    "    'Content-Type': 'application/json-rpc',\n",
    "}"
   ]
  },
  {
   "cell_type": "code",
   "execution_count": null,
   "metadata": {},
   "outputs": [],
   "source": [
    "def send_request(headers, request):\n",
    "    response = requests.post(creds.API_URL, headers=headers, data=json.dumps(request).encode('utf-8'))\n",
    "    return response.json()"
   ]
  },
  {
   "cell_type": "code",
   "execution_count": null,
   "metadata": {},
   "outputs": [],
   "source": [
    "# Setup Authentication\n",
    "request = {\n",
    "    'jsonrpc': '2.0',\n",
    "    'method': 'user.login',\n",
    "    'params': {\n",
    "        'user': creds.API_USER,\n",
    "        'password': creds.API_PASS\n",
    "    },\n",
    "    'id': 1,\n",
    "}\n",
    "auth = send_request(headers, request)\n",
    "\n",
    "if 'result' not in auth:\n",
    "    print('Authentication Failed')\n",
    "    exit()\n",
    "\n",
    "api_key = auth['result']\n",
    "    "
   ]
  },
  {
   "cell_type": "code",
   "execution_count": null,
   "metadata": {},
   "outputs": [],
   "source": [
    "# Extract all monitored hosts\n",
    "request = {\n",
    "    'jsonrpc': '2.0',\n",
    "    'method': 'host.get',\n",
    "    'params': {\n",
    "        'monitored_hosts': 'true'\n",
    "    },\n",
    "    'auth': api_key,\n",
    "    'id': 1\n",
    "}\n",
    "hosts = send_request(headers, request)\n",
    "\n",
    "if 'result' not in hosts:\n",
    "    print('Failed to get hosts')\n",
    "    exit()\n",
    "\n",
    "if DEBUG:\n",
    "    print(json.dumps(hosts['result'], indent=4))"
   ]
  },
  {
   "cell_type": "code",
   "execution_count": null,
   "metadata": {},
   "outputs": [],
   "source": [
    "# Convert result of monitored hosts into a list of host IDs\n",
    "if len(hosts['result']) == 0:\n",
    "    print('No monitored hosts found')\n",
    "    exit()\n",
    "\n",
    "host_ids = [host['hostid'] for host in hosts['result']]\n",
    "\n",
    "if DEBUG:\n",
    "    print(host_ids)"
   ]
  },
  {
   "cell_type": "code",
   "execution_count": null,
   "metadata": {},
   "outputs": [],
   "source": [
    "# Get Active Triggers\n",
    "request = {\n",
    "    'jsonrpc': '2.0',\n",
    "    'method': 'trigger.get',\n",
    "    'params': {\n",
    "        'filter': {\n",
    "            'value': 1\n",
    "        },\n",
    "        'sortfield': 'lastchange',\n",
    "        'sortorder': 'DESC',\n",
    "        'monitored': 'true',\n",
    "        'active': 'true',\n",
    "        'hostids': host_ids,\n",
    "        'only_true': 'true',\n",
    "        'expandDescription': 'true',\n",
    "        \"output\": \"extend\",\n",
    "        \"selectHosts\": \"extend\",\n",
    "    },\n",
    "    'auth': api_key,\n",
    "    'id': 1\n",
    "}\n",
    "triggers = send_request(headers, request)\n",
    "\n",
    "if DEBUG:\n",
    "    print(json.dumps(triggers, indent=4))"
   ]
  },
  {
   "cell_type": "code",
   "execution_count": null,
   "metadata": {},
   "outputs": [],
   "source": [
    "# Handle Triggers\n",
    "trigger_severity = {\n",
    "    0: 'Not classified',\n",
    "    1: 'Information',\n",
    "    2: 'Warning',\n",
    "    3: 'Average',\n",
    "    4: 'High',\n",
    "    5: 'Disaster'\n",
    "}\n",
    "\n",
    "for i in range(len(trigger_severity)):\n",
    "    severity_triggers = []\n",
    "\n",
    "    for trigger in triggers['result']:\n",
    "        if trigger['priority'] == str(i):\n",
    "            severity_triggers += [trigger]\n",
    "\n",
    "    print(\"\\n%s (%i)\" % (\n",
    "        trigger_severity[i], \n",
    "        len(severity_triggers)))\n",
    "\n",
    "    for t in severity_triggers:\n",
    "        print(\"%s: %s\" % (\n",
    "            t['hosts'][0]['host'].split('.')[0], \n",
    "            t['description']))"
   ]
  }
 ],
 "metadata": {
  "kernelspec": {
   "display_name": "Python 3.9.13 64-bit",
   "language": "python",
   "name": "python3"
  },
  "language_info": {
   "codemirror_mode": {
    "name": "ipython",
    "version": 3
   },
   "file_extension": ".py",
   "mimetype": "text/x-python",
   "name": "python",
   "nbconvert_exporter": "python",
   "pygments_lexer": "ipython3",
   "version": "3.9.13"
  },
  "orig_nbformat": 4,
  "vscode": {
   "interpreter": {
    "hash": "939e84e342ba229c00d2f815718c17a717901d480bfd5d101e75697c17db6838"
   }
  }
 },
 "nbformat": 4,
 "nbformat_minor": 2
}
